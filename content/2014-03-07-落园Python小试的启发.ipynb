{
 "metadata": {
  "name": ""
 },
 "nbformat": 3,
 "nbformat_minor": 0,
 "worksheets": [
  {
   "cells": [
    {
     "cell_type": "markdown",
     "metadata": {},
     "source": [
      "#\u672c\u6587\u7531\u6765\n",
      "\u672c\u6587\u59cb\u81ea[\u843d\u56ed](http://www.loyhome.com/python%E5%B0%8F%E8%AF%95/)\u7684\u4e00\u7bc7\u535a\u6587\u3002\u4f5c\u8005\u4e5f\u4e0d\u77e5\u54ea\u513f\u5f04\u6765\u4e00\u4e2a\u9898\u76ee\u3002\n",
      "\n",
      "\u73b0\u5728\u667a\u5546\u4e25\u91cd\u9000\u5316\uff0c\u7528\u4e86\u534a\u5929\u624d\u7406\u89e3\u4e86\u4f5c\u8005\u7684\u7b97\u6cd5\u3002\u66f4\u5173\u952e\u7684\u662f\uff0c\u4f5c\u8005\u58f0\u79f0\u662fpython\u65b0\u624b\uff0c\u6a21\u4effR\u5199\u7684\u7b97\u6cd5\uff0c\u5199\u8d77\u6765\u6ca1\u6709on the fly\u7684\u611f\u89c9\u3002\u8fd9\u4e5f\u5f88\u6b63\u5e38\uff0c\u56e0\u4e3a\u8fd9\u662f\u6a21\u4eff\u7684\u3001\u53c8\u662f\u65b0\u624b\uff0c\u6240\u4ee5\u5c31\u54ea\u91cc\u4f1a\u4f53\u73b0\u51fapythonic\u5462\uff01\u53ef\u95ee\u9898\u662f\uff0c\u6211\u53c8\u4e86\u597d\u957f\u65f6\u95f4\uff0c\u4e5f\u6ca1\u80fd\u60f3\u51fa\u6765\u5e94\u8be5\u5982\u4f55\u6539\u8fdb\uff0c\u7531\u6b64\u53ef\u89c1\uff0c\u6211\u8fd9python\u6c34\u5e73\u59cb\u7ec8\u505c\u7559\u5728\u8868\u9762\u9636\u6bb5\uff0c\u8fd8\u662f\u8981\u4e0b\u82e6\u529f\u554a\u3002\u6700\u540e\u66f4\u66f4\u5173\u952e\u7684\u95ee\u9898\u662f\uff0c\u603b\u89c9\u5f97\u8fd9\u7b97\u6cd5\u6709\u70b9\u95ee\u9898\uff0c\u7528\u5c0f\u5b57\u7b26\u4e32\u6d4b\u8bd5\u6765\u53bb\u53c8\u603b\u662f\u5bf9\u7684\uff0c\u63a8\u6572\u6765\u63a8\u6572\u53bb\uff0c\u53d1\u73b0\u4e86\u66f4\u591a\u7684python\u7ec6\u8282\u95ee\u9898\u3002\n",
      "\n",
      "\u56e0\u6b64\u672c\u6587\u4e0b\u9762\u4e3b\u8981\u662f\u8bb0\u5f55\u4e00\u4e9b\uff1a\n",
      "\n",
      "* \u6211\u5df2\u7ecf\u77e5\u9053\uff0c\u4f46\u662f\u5374\u6ca1\u6709\u65f6\u5e38\u6ce8\u610f\u7684\u7ec6\u8282\uff0c\u6240\u4ee5\u7ecf\u5e38\u4f1a\u9519\u4e86\u800c\u4e0d\u81ea\u77e5\u3002   \n",
      "* \u4e00\u4e9b\u4ece\u8be5\u7a0b\u5e8f\u4e2d\u53d1\u73b0\u3001\u6211\u5e94\u8be5\u77e5\u9053\u3001\u5374\u4ece\u6765\u6ca1\u6709\u6ce8\u610f\u5230\u7684\u7ec6\u8282\u3002  \n",
      "* \u4e00\u4e9b\u5f15\u7533\u51fa\u6765\u7684\u7ec6\u8282\u3002\n",
      "\n",
      "**\u56e0\u6b64\u58f0\u660e\uff1a\u672c\u6587\u5b8c\u5168\u4e0d\u662f\u8bc4\u4ef7\u539f\u4f5c\u8005\u7b97\u6cd5\uff08\u6211\u5f88\u559c\u6b22\u4f5c\u8005\u7684\u535a\u5ba2\uff0c\u4f5c\u8005\u7684\u7b97\u6cd5\u4e5f\u5f88\u597d\uff09\uff0c\u800c\u672c\u6587\u53ea\u662f\u81ea\u5df1\u5de9\u56fa\u57fa\u7840\u77e5\u8bc6\u3002**\n",
      "\n",
      "####\u9898\u76ee\uff1a\n",
      "* \u7ed9\u5b9a\u4e00\u4e2a\u8f93\u5165\u5b57\u7b26\u4e32\uff0c\u627e\u51fa\u6700\u6f02\u4eae\u7684\u65e0\u91cd\u590d\u5b50\u5b57\u7b26\u4e32\u3002\n",
      "* \u5b50\u5b57\u7b26\u4e32\uff1a\u4ece\u539f\u5b57\u7b26\u4e32\u4e2d\u51cf\u6389\u67d0\u4e9b\u5b57\u7b26\u53ef\u5f97\u5230\u7684\u3002\n",
      "* \u65e0\u91cd\u590d\u5b57\u7b26\u4e32\uff1a\u6ca1\u6709\u91cd\u590d\u7684\u5b57\u7b26\n",
      "* \u7532\u6bd4\u4e59\u6f02\u4eae\uff1a\u7532\u7684\u957f\u5ea6>\u4e59\uff0c\u6216\u8005\u7532\u7684\u5b57\u5178\u6392\u5e8f\u5728\u4e59\u4e4b\u524d\u3002`\uff08Way\uff1a\u5176\u5b9e\u6211\u5728\u8fd9\u91cc\u4e00\u76f4\u6ca1\u7406\u89e3 'a' \u548c 'b' \u8c01\u7684\u5b57\u5178\u987a\u5e8f\u5728\u524d\uff0c\u4e5f\u6ca1\u641c\u7740\u76f8\u5173\u8d44\u6599\uff09`\n",
      "\n",
      "####\u843d\u56ed\u91cc\u7ed9\u51fa\u7684\u7b54\u6848\u5982\u4e0b\uff1a\n",
      "`Way: \u7a0b\u5e8f\u91cc\u7684\u6ce8\u91ca\u662f\u6211\u81ea\u5df1\u52a0\u7684\uff0c\u4e3a\u4e86\u907f\u514d\u6df7\u6dc6\uff0c\u539f\u4f5c\u8005\u7684\u6ce8\u91ca\u5168\u5220\u9664\u3002`\n"
     ]
    },
    {
     "cell_type": "code",
     "collapsed": false,
     "input": [
      "x = 'nlhthgrfdnnlprjtecpdrthigjoqdejsfkasoctjijaoebqlrgaiakfsbljmpibkidjsrtkgrdnqsknbarpabgokbsrfhmeklrle';\n",
      "x_split = list(x);\n",
      "unique_x = list(set(x_split));\n",
      "unique_x.sort(reverse=True)\n",
      "x_remain = list();\n",
      "current_string = x_split\n",
      "current_unique = unique_x\n",
      "current_order = unique_x\n",
      "while len(x_remain) < len(unique_x):\n",
      "    for character in current_order:                              #way:\u4f4d\u7f6e1\n",
      "        index = current_string.index(character);\n",
      "        sub_string = current_string[index:len(current_string)];  #way:\u4f4d\u7f6e2\n",
      "        if (len(set(current_string)-set(sub_string))==0):        #way:\u4f4d\u7f6e3\n",
      "            x_remain.append(character);\n",
      "            for i in range(sub_string.count(character)):\n",
      "                sub_string.remove(character);\n",
      "            current_string= sub_string;\n",
      "            current_unique = list(set(current_string));\n",
      "            current_unique.sort(reverse=True);\n",
      "            current_order = current_unique;                      #way:\u4f4d\u7f6e4\n",
      "            break;\n",
      "print(x_remain);\n",
      "print(''.join(x_remain))  #Way\uff1a\u8fd9\u662f\u6211\u52a0\u7684"
     ],
     "language": "python",
     "metadata": {},
     "outputs": [
      {
       "output_type": "stream",
       "stream": "stdout",
       "text": [
        "['t', 's', 'o', 'c', 'r', 'p', 'k', 'i', 'j', 'g', 'd', 'q', 'n', 'b', 'a', 'f', 'h', 'm', 'l', 'e']\n",
        "tsocrpkijgdqnbafhmle\n"
       ]
      }
     ],
     "prompt_number": 1
    },
    {
     "cell_type": "markdown",
     "metadata": {},
     "source": [
      "# \u518d\u6b21\u58f0\u660e\uff1a\n",
      "\u6211\u5f88\u559c\u6b22\u4f5c\u8005\u7684\u535a\u5ba2\uff0c\u4f5c\u8005\u7684\u8fd9\u4e2a\u7b97\u6cd5\u4e5f\u5b8c\u5168\u6ca1\u6709\u95ee\u9898\u3002\u672c\u6587\u4e5f\u5b8c\u5168\u4e0d\u662f\u8981\u8bc4\u4ef7\u843d\u56ed\u7684\u8fd9\u7bc7\u7b97\u6cd5\uff0c\u53ea\u662f\u501f\u6765\u5de9\u56fa\u81ea\u5df1\u7684\u57fa\u7840\u3002\n",
      "\n",
      "#\u8981\u70b9\n",
      "## \u4e00\u3001list \u7684\u6df1\u590d\u5236\u3001\u6d45\u590d\u5236\u3001\u503c\u3001\u5f15\u7528\u7684\u95ee\u9898\n",
      "\u73b0\u5728\u4f9d\u7a00\u8bb0\u5f97\u5f53\u5e74\u4e0a C \u8bed\u8a00\u8bfe\u7a0b\u7684\u65f6\u5019\uff0c\u8001\u5e08\u5728\u8bfe\u5802\u4e0a\u53cd\u590d\u5730\u8bb2\u7684\u3001\u4e60\u9898\u4e0a\u53cd\u590d\u4f5c\u7684\u3001\u8003\u8bd5\u4e00\u5b9a\u4e0d\u653e\u8fc7\u7684\u4e00\u4e2a\u5185\u5bb9\u662f\u6570\u7ec4\u7684\u4e0b\u6807\u548c\u8d8a\u754c\u95ee\u9898\uff0c\u53e6\u4e00\u4e2a\u5c31\u662f\u503c\u548c\u5f15\u7528\u7684\u95ee\u9898\u3002\u7528\u5728\u8fd9\u91cc\u5dee\u4e0d\u591a\u5c31\u662f\u6240\u8c13\u7684\u6df1\u590d\u5236\u3001\u6d45\u590d\u5236\u7684\u95ee\u9898\u3002\n",
      "\n",
      "\u6df1\u590d\u5236\u3001\u6d45\u590d\u5236\u662f\u73b0\u5728\u624b\u5934\u7684\u4e00\u672cPython\u53c2\u8003\u624b\u518c\u4e0a\u9762\u7684\u7528\u8bed\uff0c\u5404\u79cd\u6559\u6750\u3001\u7f51\u4e0a\u5404\u79cd\u8d44\u6599\u7528\u8bed\u8fd8\u4e0d\u4e00\u6837\u3002\u82f1\u6587\u8d44\u6599\u4e0a\u9762\u7684\u8bf4\u6cd5\u4e5f\u4e0d\u592a\u4e00\u6837\u3002\n",
      "#### 1. = \u64cd\u4f5c\u4f20\u9012\u7684\u662f\u5f15\u7528\uff0cappend\u3001remove\u662f\u5728\u5f53\u524d\u5e8f\u5217\u4e0a\u8fdb\u884c\u7684\u64cd\u4f5c\n",
      "\u5bf9\u5e8f\u5217\u7684 = \u64cd\u4f5c\u4f20\u9012\u7684\u662f\u5f15\u7528\uff0c\u5bf9\u5176\u4e2d\u4e00\u4e2a\u5e8f\u5217\u7684\u4fee\u6539\u540c\u65f6\u5f71\u54cd\u53e6\u4e00\u4e2a\u5e8f\u5217\u3002\n",
      "\u8fd9\u4e00\u70b9\u6bd4\u8f83\u7b80\u5355\uff0c\u653e\u5728\u8fd9\u91cc\u53ea\u4e3a\u5b8c\u6574\u6027\u3002\n",
      "#### 2. \u6d45\u590d\u5236\uff1a\u5bf9\u503c\u5143\u7d20\u4f20\u9012\u503c\u3001\u5bf9\u5f15\u7528\u5143\u7d20\u4f20\u9012\u5f15\u7528\u3002\u5982copy\n",
      "\u4f8b\u5982\uff1a"
     ]
    },
    {
     "cell_type": "code",
     "collapsed": false,
     "input": [
      "import copy\n",
      "n=[1,2,3,[6,7]]\n",
      "a=n             # = \u64cd\u4f5c\u4f20\u9012\u7684\u662f\u5f15\u7528\n",
      "b=copy.copy(n)  # 1\u30012\u30013\u4f20\u9012\u7684\u662f\u503c\uff0c[6\u30017]\u4f20\u9012\u7684\u662f\u5f15\u7528\n",
      "a.append(4)\n",
      "b.append(5)\n",
      "print(n,a,b)     # b\u7684append\u64cd\u4f5c\u4e0d\u5f71\u54cda\u3001n\n",
      "a[3].append(8)\n",
      "b[3].append(9)  # b[3]\u7684\u64cd\u4f5c\u5f71\u54cda\u3001n\n",
      "print( n,a,b)\n",
      "a[3].append(10)\n",
      "b[3]=['b']      # = \u64cd\u4f5c\u4e0d\u662f\u5728\u539f\u5e8f\u5217\u4e0a\u7684\u64cd\u4f5c\u3002\u597d\u4e86\uff0c\u518d\u6574\u591a\u4e86\u628a\u81ea\u5df1\u7ed5\u8fdb\u53bb\u4e86\u3002\n",
      "print(n,a,b)"
     ],
     "language": "python",
     "metadata": {},
     "outputs": [
      {
       "output_type": "stream",
       "stream": "stdout",
       "text": [
        "[1, 2, 3, [6, 7], 4] [1, 2, 3, [6, 7], 4] [1, 2, 3, [6, 7], 5]\n",
        "[1, 2, 3, [6, 7, 8, 9], 4] [1, 2, 3, [6, 7, 8, 9], 4] [1, 2, 3, [6, 7, 8, 9], 5]\n",
        "[1, 2, 3, [6, 7, 8, 9, 10], 4] [1, 2, 3, [6, 7, 8, 9, 10], 4] [1, 2, 3, ['b'], 5]\n"
       ]
      }
     ],
     "prompt_number": 2
    },
    {
     "cell_type": "markdown",
     "metadata": {},
     "source": [
      "#### 3. * \u64cd\u4f5c\u751f\u6210\u7684\u662f\u5e8f\u5217\u7684\u526f\u672c\uff0c\u5c5e\u6d45\u590d\u5236\uff0c\u7c7b\u4f3c\u4e0a\u9762\u7684copy\u64cd\u4f5c\n",
      "\u4f8b\u5982\uff1a"
     ]
    },
    {
     "cell_type": "code",
     "collapsed": false,
     "input": [
      "n=[1,2,3]\n",
      "a=n*4\n",
      "b=[n]*4\n",
      "c=[n for j in range(4)]         # \u6bd4\u8f83 c\u3001d \u64cd\u4f5c\u4e0e b\n",
      "d=[list(n) for j in range(4)]\n",
      "print(a)\n",
      "print(b)\n",
      "print(c)\n",
      "print(d)\n",
      "n[0] = 0\n",
      "print(a)\n",
      "print(b)\n",
      "print(c)\n",
      "print(d)"
     ],
     "language": "python",
     "metadata": {},
     "outputs": [
      {
       "output_type": "stream",
       "stream": "stdout",
       "text": [
        "[1, 2, 3, 1, 2, 3, 1, 2, 3, 1, 2, 3]\n",
        "[[1, 2, 3], [1, 2, 3], [1, 2, 3], [1, 2, 3]]\n",
        "[[1, 2, 3], [1, 2, 3], [1, 2, 3], [1, 2, 3]]\n",
        "[[1, 2, 3], [1, 2, 3], [1, 2, 3], [1, 2, 3]]\n",
        "[1, 2, 3, 1, 2, 3, 1, 2, 3, 1, 2, 3]\n",
        "[[0, 2, 3], [0, 2, 3], [0, 2, 3], [0, 2, 3]]\n",
        "[[0, 2, 3], [0, 2, 3], [0, 2, 3], [0, 2, 3]]\n",
        "[[1, 2, 3], [1, 2, 3], [1, 2, 3], [1, 2, 3]]\n"
       ]
      }
     ],
     "prompt_number": 3
    },
    {
     "cell_type": "markdown",
     "metadata": {},
     "source": [
      "#### 4. deepcopy \u64cd\u884c\u7684\u662f\u6df1\u590d\u5236"
     ]
    },
    {
     "cell_type": "markdown",
     "metadata": {},
     "source": [
      "## \u4e8c\u3001\u5728\u904d\u5386\u5e8f\u5217\u7684\u540c\u65f6\u4fee\u6539\u5e8f\u5217\n",
      "\u524d\u9762\u8bf4\u5230\uff0c\u540e\u6765\u603b\u89c9\u5f97\u7b97\u6cd5\u4f3c\u4e4e\u6709\u70b9\u95ee\u9898\uff0c\u662f\u56e0\u4e3a\u56de\u5fc6\u8d77\u6765\u6709\u4e00\u7bc7\u6587\u7ae0\u8bb2\u8fc7\uff0c\u5728\u904d\u5386\u7684\u540c\u65f6\u4e2a\u6027list\u8981\u975e\u5e38\u8c28\u614e\uff0c\u56e0\u4e3a\u4f1a\u51fa\u95ee\u9898\u3002\u4f46\u662f\u843d\u56ed\u5f88\u5de7\u5999\u5730\u8fd9\u6837\u4f7f\u7528\u6ca1\u6709\u95ee\u9898\u3002\n",
      "\n",
      "\u5728`\u4f4d\u7f6e4`\u90a3\u513f\uff0c`current_string`\u7684\u91cd\u65b0\u8d4b\u503c\uff0c\u4e0d\u8ba8\u8bba\u5185\u5728\u5f00\u9500\u4e4b\u7c7b\u7684\u95ee\u9898\uff0c\u663e\u7136\u7528 `current_string.remove(character)`\u4f1a\u76f4\u89c2\u4e00\u4e9b\uff0c\u4f46\u662f\u8fd9\u6837\u7528\uff0c\u5c31\u4f1a\u6709\u771f\u6b63\u7684\u95ee\u9898\uff0c\u4e5f\u5c31\u662f\u5728\u904d\u5386\u7684\u540c\u65f6\u4fee\u6539\u4e86\u5e8f\u5217\uff0c\u904d\u5386\u4f1a\u8df3\u8fc7\u67d0\u4e9b\u5143\u7d20\u3002\u4e0b\u9762\u6709\u4f8b\u5b50\u3002\n",
      "\n",
      "\u4e0b\u9762\u4e00\u6bb5\u4f8b\u5b50\u662f\u540e\u6765\u6d4b\u8bd5\u51fa\u6765\u7684\uff0c\u539f\u56e0\u5927\u6982\u4e5f\u662f\u503c\u548c\u5f15\u7528\u7684\u95ee\u9898\u3002\u5728\u539f\u5e8f\u5217\u4e0a\u7684\u4fee\u6539\u4f1a\u5f71\u54cd\u904d\u5386\uff0c\u800c\u5c06\u53d8\u91cf\u6307\u5411\u65b0\u7684\u5e8f\u5217\u6216\u8005\u65b0\u7684\u5730\u5740\uff0c\u4e0d\u4f1a\u5f71\u54cd\u904d\u5386\u3002\u4f8b\u5b50\u5982\u4e0b\uff1a"
     ]
    },
    {
     "cell_type": "markdown",
     "metadata": {},
     "source": [
      "#### 1. \u7b2c\u4e00\u4e2a\u4f8b\u5b50\uff1a"
     ]
    },
    {
     "cell_type": "code",
     "collapsed": false,
     "input": [
      "n=list('abcd')\n",
      "x=1\n",
      "for c in n:\n",
      "    print('\u7b2c{0}\u904d\u5faa\u73af\u65f6 c={1}   n={2}'.format(x,c,n))\n",
      "    n=n[1:]       #n\u88ab\u6307\u5411\u4e86\u65b0\u7684\u5730\u5740\uff0c\u4f46\u539f\u5730\u5740\u6570\u636e\u4e0d\u53d8\uff0c\u56e0\u6b64c\u4ecd\u7136\u4f1a\u7167\u9884\u671f\u5730\u904d\u5386\u4e0b\u53bb\n",
      "    x+=1          "
     ],
     "language": "python",
     "metadata": {},
     "outputs": [
      {
       "output_type": "stream",
       "stream": "stdout",
       "text": [
        "\u7b2c1\u904d\u5faa\u73af\u65f6 c=a   n=['a', 'b', 'c', 'd']\n",
        "\u7b2c2\u904d\u5faa\u73af\u65f6 c=b   n=['b', 'c', 'd']\n",
        "\u7b2c3\u904d\u5faa\u73af\u65f6 c=c   n=['c', 'd']\n",
        "\u7b2c4\u904d\u5faa\u73af\u65f6 c=d   n=['d']\n"
       ]
      }
     ],
     "prompt_number": 4
    },
    {
     "cell_type": "markdown",
     "metadata": {},
     "source": [
      "\u5728\u4e0a\u9762\u7684\u4f8b\u5b50\u5f53\u4e2d\uff0c\u5207\u7247\u5bf9\u8c61\u4f20\u9012\u7684\u662f\u503c\uff0c\u4f30\u8ba1\u4e5f\u662f\u6d45\u590d\u5236\u7684\u8303\u7574\u3002\u843d\u56ed\u4e5f\u662f\u7528\u7c7b\u4f3c\u8fd9\u79cd\u65b9\u5f0f\u904d\u5386`\uff08\u4f4d\u7f6e1\u3001\u4f4d\u7f6e4\uff09`\uff0c\u80fd\u591f\u6309\u7167\u9884\u671f\u5730\u904d\u5386\u4e0b\u53bb\uff0c\u540c\u65f6\u8fd8\u4e0d\u5f71\u54cdwhile\u5faa\u73af\u91cc\u7684\u4e0b\u4e00\u904d\u904d\u5386\u3002\u4f46\u662f\u8be5\u5730\u5740\u4e0a\u7684\u6570\u636e\u5f15\u7528\u6570\u636e\u4f1a\u4e0d\u4f1a\u53d8\u62100\u88ab\u5783\u573e\u56de\u6536\uff0c\u5e76\u88ab\u8986\u76d6\u65b0\u7684\u6570\u636e\uff0c\u4ea7\u751f\u4e0d\u53ef\u9884\u6d4b\u7684\u7ed3\u679c\u5462\uff1f\u8fd9\u4e2a\u6d4b\u8bd5\u8d77\u6765\u6bd4\u8f83\u9ebb\u70e6\uff0c\u540e\u9762\u518d\u8bf4\u3002\n"
     ]
    },
    {
     "cell_type": "markdown",
     "metadata": {},
     "source": [
      "#### 2. \u7b2c\u4e8c\u4e2a\u4f8b\u5b50\uff1a"
     ]
    },
    {
     "cell_type": "code",
     "collapsed": false,
     "input": [
      "n=list('abcd')\n",
      "x=1\n",
      "for c in n:\n",
      "    print('\u7b2c{0}\u904d\u5faa\u73af\u65f6 c={1}   n={2}'.format(x,c,n))\n",
      "    n.remove(c)      #n\u88ab\u5728\u539f\u5730\u5740\u4e0a\u4fee\u6539\u4e86\uff0c\u904d\u5386\u8df3\u8fc7\u4e86\u4e00\u4e2a\u5143\u7d20\uff08\u4f46\u6ca1\u8df3\u8fc7\u5730\u5740\uff09\u3002\n",
      "    x+=1   "
     ],
     "language": "python",
     "metadata": {},
     "outputs": [
      {
       "output_type": "stream",
       "stream": "stdout",
       "text": [
        "\u7b2c1\u904d\u5faa\u73af\u65f6 c=a   n=['a', 'b', 'c', 'd']\n",
        "\u7b2c2\u904d\u5faa\u73af\u65f6 c=c   n=['b', 'c', 'd']\n"
       ]
      }
     ],
     "prompt_number": 5
    },
    {
     "cell_type": "markdown",
     "metadata": {},
     "source": [
      "\u4e0b\u9762\u901a\u8fc7\u6253\u5370\u5207\u7247\u540e\u5bf9\u8c61\u7684id \u67e5\u770b\u5730\u5740\uff0c\u9a8c\u8bc1\u4e00\u4e0b\u5207\u7247\u7684\u6d45\u590d\u5236\u5427\uff1a"
     ]
    },
    {
     "cell_type": "code",
     "collapsed": false,
     "input": [
      "a=[1,2,3,4]\n",
      "b=a[1:]\n",
      "print(id(a), id(b))"
     ],
     "language": "python",
     "metadata": {},
     "outputs": [
      {
       "output_type": "stream",
       "stream": "stdout",
       "text": [
        "106602632 106632136\n"
       ]
      }
     ],
     "prompt_number": 6
    },
    {
     "cell_type": "code",
     "collapsed": false,
     "input": [
      "n=[1,2,[3,4]]\n",
      "print(id(n[2]))\n",
      "n[0]=0\n",
      "print( id(n[2]))\n",
      "n[2][0]=0\n",
      "print( id(n[2]))\n",
      "n[2]=['a','b']\n",
      "print( id(n[2]))"
     ],
     "language": "python",
     "metadata": {},
     "outputs": [
      {
       "output_type": "stream",
       "stream": "stdout",
       "text": [
        "106603016\n",
        "106603016\n",
        "106603016\n",
        "106633800\n"
       ]
      }
     ],
     "prompt_number": 7
    },
    {
     "cell_type": "markdown",
     "metadata": {},
     "source": [
      "\u518d\u6765\u4e00\u4e2a\u590d\u6742\u4e00\u70b9\u7684\u4f8b\u5b50\uff1a"
     ]
    },
    {
     "cell_type": "code",
     "collapsed": false,
     "input": [
      "n=['a','b',[1,2]]\n",
      "a=n[1:]\n",
      "n[2]='c'           #n[2]\u6307\u5411\u65b0\u7684\u4f4d\u7f6e\uff0c\u4f46a[1]\u4ecd\u6307\u5411\u539f\u4f4d\u7f6e\u7684\u6570\u636e\n",
      "print( a)            #\u56e0\u6b64a\u4e0d\u53d8\n",
      "n=['a','b',[1,2]]\n",
      "a=n[1:]\n",
      "n[2][0]='c'        #\u5728\u539f\u4f4d\u7f6e\u4e0a\u4fee\u6539\uff0c\u56e0\u6b64 a \u4e5f\u53d1\u751f\u6539\u53d8\n",
      "print(a)"
     ],
     "language": "python",
     "metadata": {},
     "outputs": [
      {
       "output_type": "stream",
       "stream": "stdout",
       "text": [
        "['b', [1, 2]]\n",
        "['b', ['c', 2]]\n"
       ]
      }
     ],
     "prompt_number": 8
    },
    {
     "cell_type": "markdown",
     "metadata": {},
     "source": [
      "\u4e0b\u9762\u904d\u5386\u590d\u6742\u5e8f\u5217\u3002\n",
      "\n",
      "\u7ecf\u8fc7\u591a\u6b21\u4fee\u6539\u3001\u6d4b\u8bd5\u4e4b\u540e\u51b3\u5b9a\u653e\u5f03\u4e86\u3002\u5206\u522b\u5728\u5bf9n\u3001n1\u3001n2\u904d\u5386\u7684\u65f6\u5019\uff0c\u5bf9n\u3001n1\u3001n2\u8fdb\u884c\u4fee\u6539\uff0c\u518d\u5bf9\u5176\u6253\u5370\uff0c\u4ea7\u751f\u5404\u79cd\u7ed3\u679c\uff0c\u592a\u590d\u6742\u7684\u61d2\u5f97\u603b\u7ed3\u4e86\uff0c\u53cd\u6b63\u81ea\u5df1\u4e5f\u8bb0\u4e0d\u4f4f\uff0c\u53cd\u800c\u8d8a\u6765\u8d8a\u4e71\u3002\u6709\u5174\u8da3\u7684\u540c\u5fd7\u81ea\u5df1\u6d4b\u8bd5\u53bb\u5427\u3002"
     ]
    },
    {
     "cell_type": "code",
     "collapsed": false,
     "input": [
      "import copy\n",
      "n=['a','b',[1,2]]\n",
      "n2=copy.copy(n)\n",
      "n3=n\n",
      "for c in n2:\n",
      "    print(c,n2)\n",
      "    n[1]='d'\n",
      "    n[2][0]='e'"
     ],
     "language": "python",
     "metadata": {},
     "outputs": [
      {
       "output_type": "stream",
       "stream": "stdout",
       "text": [
        "a ['a', 'b', [1, 2]]\n",
        "b ['a', 'b', ['e', 2]]\n",
        "['e', 2] ['a', 'b', ['e', 2]]\n"
       ]
      }
     ],
     "prompt_number": 9
    },
    {
     "cell_type": "markdown",
     "metadata": {},
     "source": [
      "## \u4e09\u3001\u5207\u7247\u7684\u4e0a\u4e0b\u6807\u95ee\u9898\uff08\u8865\u5145\uff1a\u5176\u5b9e\u662f\u5f00\u59cb\u548c\u7ed3\u675f\u7684\u7d22\u5f15\uff0c\u4e0d\u662f\u6b63\u5e38\u7684\u4e0a\u4e0b\u6807\u6982\u5ff5\uff09\n",
      "\u8fd9\u4e2a\u95ee\u9898\u4ee5\u524d\u60f3\u5f53\u5e74\u770b\u4e66\u7684\u65f6\u5019\u6d4b\u8bd5\u8fc7\uff0c\u4f46\u662f\u6ca1\u6709\u8bb0\u4e0b\u6765\uff0c\u540e\u6765\u53c8\u5fd8\u8bb0\u4e86\uff08\u73b0\u5728\u667a\u5546\u548c\u8bb0\u5fc6\u529b\u600e\u4e48\u9000\u5316\u8fd9\u4e48\u591a\u5462\uff1f\uff09\u8fd9\u91cc\u518d\u8bb0\u4e0b\u6765\u5427\u3002\n",
      "\n",
      "\u95ee\u9898\u6e90\u81ea\u6e90\u4ee3\u7801\u7684`\u4f4d\u7f6e2`\uff0c\u4f5c\u8005\u7528\u4e86 `sub_string = current_string[index:len(current_string)]`\uff0c\u8fd9\u6837\u4e1d\u6beb\u6ca1\u6709\u95ee\u9898\uff0c\u7b80\u5316\u6210 `sub_string = current_string[index:]` \u4e5f\u6ca1\u6709\u95ee\u9898\uff0c\u4f46\u4e5f\u6ca1\u4ec0\u4e48\u610f\u4e49\uff0c\u9664\u4e86\u5c11\u6572\u51e0\u4e2a\u5b57\u7b26\u3002\n",
      "\n",
      "\u4f46\u662f\u95ee\u9898\u662f\uff1a\u6211\u4e0d\u77e5\u54ea\u91cc\u6765\u7684\u76f4\u89c9\u603b\u662f\u89c9\u5f97 `a[1:2] `\u5e94\u8be5\u662f\u5305\u542b `a[1]`\u3001`a[2]` \u4e24\u4e2a\u5143\u7d20\u7684\uff0c\u4f46\u5176\u5b9e\u662f\u53ea\u5305\u542b `a[1]` \u4e00\u4e2a\u5143\u7d20\u7684\u3002\n",
      "\n",
      "\u6240\u4ee5\u5bf9\u4e8e\u4e00\u4e2alen(a)=3\u7684\u5e8f\u5217\uff0ca[3]\u4f1a\u8d8a\u754c\uff0c\u4f46a[0:3]\u6ca1\u6709\u95ee\u9898\uff0c\u5e76\u4e14\u5305\u542b\u4e86\u6240\u6709\u7684\u5143\u7d20\uff0c\u751a\u81f3\u53ef\u4ee5a[0:8]\uff1ba\u7684\u6700\u540e\u4e00\u4e2a\u5143\u7d20\u662fa[2]\uff0c\u4f46\u662fa[0:2]\u4f1a\u6f0f\u6389\u6700\u540e\u4e00\u4e2a\u5143\u7d20\u3002\n",
      "\n",
      "\u7b80\u5355\u6765\u8bf4\u5c31\u662f\u5207\u7247\u662f\u5305\u542b\u4e0a\u6807\u3001\u4e0d\u5305\u542b\u4e0b\u6807\u7684\uff0c\u8fd9\u5176\u5b9e\u662f\u592a\u7b80\u5355\u7684\u5e38\u8bc6\u3002"
     ]
    },
    {
     "cell_type": "code",
     "collapsed": false,
     "input": [
      "a=list('abc')\n",
      "#print a[3]  \u8d8a\u754c\uff0c\u629b\u51fa\u5f02\u5e38\n",
      "print( 'a[1:]=',a[1:])   #bc\n",
      "print( 'a[1:2]=',a[1:2]) #b\n",
      "print( 'a[1:3]=',a[1:3]) #bc\n",
      "print( 'a[1:8]=',a[1:8]) #bc"
     ],
     "language": "python",
     "metadata": {},
     "outputs": [
      {
       "output_type": "stream",
       "stream": "stdout",
       "text": [
        "a[1:]= ['b', 'c']\n",
        "a[1:2]= ['b']\n",
        "a[1:3]= ['b', 'c']\n",
        "a[1:8]= ['b', 'c']\n"
       ]
      }
     ],
     "prompt_number": 10
    },
    {
     "cell_type": "markdown",
     "metadata": {},
     "source": [
      "\u8d1f\u6570\u4e0b\u6807\u57fa\u672c\u4e0a\u4e5f\u662f\u4e0a\u9762\u7684\u601d\u8def\uff1a"
     ]
    },
    {
     "cell_type": "code",
     "collapsed": false,
     "input": [
      "a=list('abc')\n",
      "#print a[-8]  #\u8d8a\u754c\uff0c\u629b\u51fa\u5f02\u5e38\n",
      "print( 'a[:-1]=',a[:-1])   #ab\n",
      "print( 'a[-1:2]=',a[-1:])  #c\n",
      "print( 'a[-2:3]=',a[-2:])  #bc\n",
      "print( 'a[-8:8]=',a[-8:])  #abc"
     ],
     "language": "python",
     "metadata": {},
     "outputs": [
      {
       "output_type": "stream",
       "stream": "stdout",
       "text": [
        "a[:-1]= ['a', 'b']\n",
        "a[-1:2]= ['c']\n",
        "a[-2:3]= ['b', 'c']\n",
        "a[-8:8]= ['a', 'b', 'c']\n"
       ]
      }
     ],
     "prompt_number": 11
    },
    {
     "cell_type": "markdown",
     "metadata": {},
     "source": [
      "## \u56db\u3001*set* \u7684\u64cd\u4f5c\n",
      "\n",
      "* \u96c6\u5408\u662f\u552f\u4e00\u9879\u7684\u65e0\u5e8f\u96c6\n",
      "* \u96c6\u5408\u4e0d\u63d0\u4f9b\u7d22\u5f15\u6216\u5207\u7247\u64cd\u4f5c\n",
      "* \u653e\u5165\u96c6\u5408\u7684\u9879\u76ee\u662f\u4e0d\u53ef\u53d8\u7684\n",
      "\n",
      "\u6ca1\u6709\u592a\u591a\u53ef\u8bf4\u7684\uff0c\u76f4\u63a5\u770b\u4f8b\u5b50\u5427\u3002\u552f\u4e00\u6ce8\u610f\u7684\u4e00\u5c31\u662f\u201c\u51cf\u201d\u64cd\u4f5c\u3002\u4e5f\u5c31\u662f `\u4f4d\u7f6e3`"
     ]
    },
    {
     "cell_type": "code",
     "collapsed": false,
     "input": [
      "ab = set('ab')   #\u53ef\u4ee5\u521d\u59cb\u5316\u4e3a set('ab') \u6216\u8005 set(['a','b']), \u4f46\u4e0d\u80fd\u662f set('a','b')\n",
      "abc = set('abc')\n",
      "print( ab,abc)\n",
      "ab_abc = ab - abc   #\u6ce8\u610f\u201c\u51cf\u201d\u64cd\u4f5c\u7684\u524d\u540e\u987a\u5e8f\n",
      "abc_ab = abc - ab\n",
      "print( 'after -: ', ab_abc, abc_ab)\n",
      "ab_abc = ab ^ abc\n",
      "abc_ab = abc ^ ab\n",
      "print( 'after ^: ', ab_abc, abc_ab)\n",
      "ab_abc = ab | abc\n",
      "abc_ab = abc | ab\n",
      "print( 'after |: ', ab_abc, abc_ab)\n",
      "ab_abc = ab & abc\n",
      "abc_ab = abc & ab\n",
      "print( 'after &: ', ab_abc, abc_ab)"
     ],
     "language": "python",
     "metadata": {},
     "outputs": [
      {
       "output_type": "stream",
       "stream": "stdout",
       "text": [
        "{'a', 'b'} {'a', 'b', 'c'}\n",
        "after -:  set() {'c'}\n",
        "after ^:  {'c'} {'c'}\n",
        "after |:  {'a', 'b', 'c'} {'a', 'b', 'c'}\n",
        "after &:  {'a', 'b'} {'a', 'b'}\n"
       ]
      }
     ],
     "prompt_number": 12
    },
    {
     "cell_type": "markdown",
     "metadata": {},
     "source": [
      "## \u4e94\u3001\u6d4b\u8bd5\u4e00\u4e0b\u4e0a\u9762\u63d0\u5230\u7684\u6570\u636e\u8986\u76d6\u95ee\u9898"
     ]
    },
    {
     "cell_type": "code",
     "collapsed": false,
     "input": [
      "import gc\n",
      "x = [i for i in range(10000)]\n",
      "result = []\n",
      "for n in x:\n",
      "    x = [i for i in range(10000,20000)]  #\u8fd9\u91cc\u5e94\u8be5\u662f\u5728\u65b0\u5206\u914d\u7684\u5730\u5740\u4e0a\uff0c\u539f\u5730\u5740\u7684\u6570\u636e\u4e0d\u53d8\uff0c\u7406\u8bba\u4e0a\u4e0d\u5f71\u54cd n \u7684\u904d\u5386\n",
      "    result.append(n)                      #\u6240\u4ee5 result \u5e94\u8be5\u4e0e\u6700\u521d\u7684 x \u76f8\u7b49\u3002\n",
      "    gc.collect()\n",
      "print( result == [i for i in range(10000)])"
     ],
     "language": "python",
     "metadata": {},
     "outputs": [
      {
       "output_type": "stream",
       "stream": "stdout",
       "text": [
        "True\n"
       ]
      }
     ],
     "prompt_number": 13
    },
    {
     "cell_type": "markdown",
     "metadata": {},
     "source": [
      "\u8c8c\u4f3c\u6ca1\u6709\u8986\u76d6\u7684\u95ee\u9898\uff0c\u6240\u4ee5 n \u4ecd\u7136\u5728\u539f\u6765\u7684\u6570\u636e\u5730\u5740\u4e0a\u8001\u8001\u5b9e\u5b9e\u5730\u3001\u5b89\u5168\u7684\u904d\u5386\u7740\u3002\u4e0a\u9762\u7684\u7a0b\u5e8f\u8fd0\u884c\u7684\u5f88\u6162\uff0c\u672c\u6765\u5c31\u662f\u5e0c\u671b\u6709\u5f88\u5927\u7684\u5185\u5b58\u8bfb\u5199\uff0c\u6240\u4ee5\u5185\u5b58\u5f00\u9500\u4e0a\u9762\u7684\u4f18\u5316\u4e5f\u6ca1\u6709\u610f\u4e49\uff0c\u6216\u8bb8\u53ef\u4ee5\u8fdb\u884c\u5176\u5b83\u7684\u4f18\u5316\u3002\n",
      "\n",
      "\u8fd9\u53ea\u662f\u4e2a\u5927\u6982\uff0c\u4e5f\u4e0d\u662f\u6700\u7ec8\u7ed3\u8bba\uff0c\u518d\u590d\u6742\u7684\u6d4b\u8bd5\u4e00\u65f6\u4e5f\u60f3\u4e0d\u51fa\u6765\u4e86\uff0c\u4e5f\u61d2\u5f97\u5f04\u4e86\u3002\u5e72\u6b63\u4e8b\u53bb\u4e86\u2026\u2026"
     ]
    }
   ],
   "metadata": {}
  }
 ]
}