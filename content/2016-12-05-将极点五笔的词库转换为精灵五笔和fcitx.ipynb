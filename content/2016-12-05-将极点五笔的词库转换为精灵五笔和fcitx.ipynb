{
 "cells": [
  {
   "cell_type": "markdown",
   "metadata": {},
   "source": [
    "# 导出并载入词库\n",
    "\n",
    "极点五笔集成了词库导出功能，将导出的词库 `freeime.txt` 载入 python。但是有几点需要注意：\n",
    "\n",
    "* 编码格式，极点五笔的导出词库编码经测试是 'utf16'\n",
    "* 在转换之前要去除词库文件前面的头信息\n",
    "* 在部分词库文件中，后面有以编码 `zz` 开头词组，是极点的特殊符号及标点，要去掉\n",
    "* 在词库中，有部分词为极点中如 `time`, `date` 之类的功能，要去掉"
   ]
  },
  {
   "cell_type": "code",
   "execution_count": 32,
   "metadata": {},
   "outputs": [],
   "source": [
    "# 极点词库文件\n",
    "freeime = r'c:\\users\\way\\documents\\freeime.txt'\n",
    "\n",
    "# 读取文件\n",
    "lines = open(freeime, 'r', encoding='utf16').readlines()\n",
    "\n",
    "#去掉头部和最后的 zz 标点部分\n",
    "start = lines.index('[Text]\\n') + 1    # [Text]\\n 的下一行\n",
    "\n",
    "# 去掉 zz 开始之后为特殊标点\n",
    "zz = [i for i in lines if i.startswith('zz')]\n",
    "if zz:\n",
    "    stop = lines.index(zz[0])\n",
    "else:\n",
    "    stop = len(lines)\n",
    "\n",
    "lines = lines[start:stop]\n",
    "\n",
    "#去掉特殊命令部分（主要标志是有 $ ）符号，如果 date\n",
    "special = [i for i in lines if '$' in i]\n",
    "for l in special:\n",
    "    s = [i for i in l.split(' ') if '$' not in i]\n",
    "    if len(s)>1:\n",
    "        lines[lines.index(l)] = ' '.join(s)\n",
    "    else:\n",
    "        lines.remove(l)"
   ]
  },
  {
   "cell_type": "markdown",
   "metadata": {},
   "source": [
    "# 转换为精灵五笔格式\n",
    "\n",
    "精灵五笔本身自带词库导入工具，下面整理的格式可以直接导入。但是在测试过程中，发现某些时候精灵五笔是按倒序导入的，但是在另外一些情况下，又是按顺序导入。暂时没找到原因和规律，因此顺序的问题需要试几次。"
   ]
  },
  {
   "cell_type": "code",
   "execution_count": 80,
   "metadata": {},
   "outputs": [],
   "source": [
    "jl_sys = []\n",
    "jl_gb = []\n",
    "\n",
    "jl_sys_head = \"\"\"---config@码表分类=主码-系统码表\n",
    "---config@码表别名=系统词库\\n\"\"\"\n",
    "jl_gb_head = '''---config@码表分类=主码-次显码表\n",
    "---config@码表别名= GB18030\\n'''\n",
    "\n",
    "# jl_sys.append(jl_sys_head)\n",
    "# jl_gb.append(jl_gb_head)\n",
    "\n",
    "for l in lines:\n",
    "    words = l.split()\n",
    "    code = words[0]\n",
    "    for w in words[1:]:\n",
    "        if not w.startswith('~'):\n",
    "            #注意注意：在精灵码表里，是字在先编码在后\n",
    "            jl_sys.append('{1}\\t{0}\\n'.format(code, w.strip('^')))\n",
    "        elif w.startswith('~'):\n",
    "            jl_gb.append('{1}\\t{0}\\n'.format(code, w.strip('~')))"
   ]
  },
  {
   "cell_type": "code",
   "execution_count": 81,
   "metadata": {},
   "outputs": [],
   "source": [
    "with open('jl-sys.txt', 'w', encoding='utf8') as f:\n",
    "    f.write(jl_sys_head)\n",
    "    f.write(''.join(jl_sys[::-1]))  #此处顺序要测试\n",
    "#     f.write(''.join(jl_sys))\n",
    "with open('jl-gb.txt', 'w', encoding='utf8') as f:\n",
    "    f.write(jl_gb_head)\n",
    "    f.write(''.join(jl_gb[::-1]))\n",
    "#     f.write(''.join(jl_gb))"
   ]
  },
  {
   "cell_type": "markdown",
   "metadata": {},
   "source": [
    "# 转换为 fcitx 格式\n",
    "\n",
    "fcitx 在 linux 下有 `mb2txt`命令将 fcitx 词库导出为文本文件，`txt2mb`导入为词库文件"
   ]
  },
  {
   "cell_type": "code",
   "execution_count": 86,
   "metadata": {},
   "outputs": [],
   "source": [
    "example = open('wbx.txt', encoding='utf8').readlines(500)\n",
    "fc_head = example[:example.index('[Data]\\n')+1]\n",
    "\n",
    "fc = []\n",
    "\n",
    "for l in lines:\n",
    "    words = l.split()\n",
    "    code = words[0]\n",
    "    for w in words[1:]:\n",
    "        if not w.startswith('~'):\n",
    "            # 在 fcitx 编码里面是编码先，字在后\n",
    "            fc.append('{0} {1}\\n'.format(code, w.strip('^')))"
   ]
  },
  {
   "cell_type": "code",
   "execution_count": 87,
   "metadata": {},
   "outputs": [],
   "source": [
    "with open('fc-jd.txt', 'w', encoding='utf8') as f:\n",
    "    f.write(''.join(fc_head))\n",
    "    f.write(''.join(fc))"
   ]
  }
 ],
 "metadata": {
  "kernelspec": {
   "display_name": "Python 3",
   "language": "python",
   "name": "python3"
  },
  "language_info": {
   "codemirror_mode": {
    "name": "ipython",
    "version": 3
   },
   "file_extension": ".py",
   "mimetype": "text/x-python",
   "name": "python",
   "nbconvert_exporter": "python",
   "pygments_lexer": "ipython3",
   "version": "3.6.0"
  },
  "nav_menu": {},
  "toc": {
   "navigate_menu": true,
   "number_sections": true,
   "sideBar": true,
   "threshold": 6,
   "toc_cell": false,
   "toc_section_display": "block",
   "toc_window_display": false
  }
 },
 "nbformat": 4,
 "nbformat_minor": 1
}
